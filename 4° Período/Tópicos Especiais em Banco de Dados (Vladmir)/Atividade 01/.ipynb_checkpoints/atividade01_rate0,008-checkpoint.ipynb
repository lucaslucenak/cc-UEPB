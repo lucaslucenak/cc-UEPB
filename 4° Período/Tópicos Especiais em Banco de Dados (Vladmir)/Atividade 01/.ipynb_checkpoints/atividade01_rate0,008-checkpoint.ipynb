{
 "cells": [
  {
   "cell_type": "code",
   "execution_count": null,
   "metadata": {},
   "outputs": [],
   "source": []
  },
  {
   "cell_type": "markdown",
   "id": "f2858c49",
   "metadata": {},
   "source": []
  }
 ],
 "metadata": {
  "language_info": {
   "name": "python"
  }
 },
 "nbformat": 4,
 "nbformat_minor": 5
}
