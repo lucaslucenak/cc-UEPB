{
 "cells": [
  {
   "cell_type": "code",
   "execution_count": 65,
   "id": "7ea86720",
   "metadata": {},
   "outputs": [],
   "source": [
    "import pandas as pd"
   ]
  },
  {
   "cell_type": "code",
   "execution_count": 114,
   "id": "f1544a54",
   "metadata": {},
   "outputs": [
    {
     "data": {
      "text/html": [
       "<div>\n",
       "<style scoped>\n",
       "    .dataframe tbody tr th:only-of-type {\n",
       "        vertical-align: middle;\n",
       "    }\n",
       "\n",
       "    .dataframe tbody tr th {\n",
       "        vertical-align: top;\n",
       "    }\n",
       "\n",
       "    .dataframe thead th {\n",
       "        text-align: right;\n",
       "    }\n",
       "</style>\n",
       "<table border=\"1\" class=\"dataframe\">\n",
       "  <thead>\n",
       "    <tr style=\"text-align: right;\">\n",
       "      <th></th>\n",
       "      <th>Data do registro</th>\n",
       "      <th>Volume (%)</th>\n",
       "      <th>Volume (m³)</th>\n",
       "      <th>Afluência/Defluência (m²)</th>\n",
       "    </tr>\n",
       "  </thead>\n",
       "  <tbody>\n",
       "    <tr>\n",
       "      <th>0</th>\n",
       "      <td>2012-04-26</td>\n",
       "      <td>81.79</td>\n",
       "      <td>1.186.624</td>\n",
       "      <td>0</td>\n",
       "    </tr>\n",
       "    <tr>\n",
       "      <th>1</th>\n",
       "      <td>2012-05-30</td>\n",
       "      <td>82.00</td>\n",
       "      <td>1.189.708,80</td>\n",
       "      <td>0</td>\n",
       "    </tr>\n",
       "    <tr>\n",
       "      <th>2</th>\n",
       "      <td>2012-06-01</td>\n",
       "      <td>81.79</td>\n",
       "      <td>1.186.624</td>\n",
       "      <td>0</td>\n",
       "    </tr>\n",
       "    <tr>\n",
       "      <th>3</th>\n",
       "      <td>2012-07-01</td>\n",
       "      <td>78.60</td>\n",
       "      <td>1.140.352</td>\n",
       "      <td>0</td>\n",
       "    </tr>\n",
       "    <tr>\n",
       "      <th>4</th>\n",
       "      <td>2012-08-31</td>\n",
       "      <td>74.63</td>\n",
       "      <td>1.082.730</td>\n",
       "      <td>0</td>\n",
       "    </tr>\n",
       "    <tr>\n",
       "      <th>...</th>\n",
       "      <td>...</td>\n",
       "      <td>...</td>\n",
       "      <td>...</td>\n",
       "      <td>...</td>\n",
       "    </tr>\n",
       "    <tr>\n",
       "      <th>90</th>\n",
       "      <td>2021-11-30</td>\n",
       "      <td>34.72</td>\n",
       "      <td>503.723,40</td>\n",
       "      <td>-1.780,40</td>\n",
       "    </tr>\n",
       "    <tr>\n",
       "      <th>91</th>\n",
       "      <td>2021-12-31</td>\n",
       "      <td>31.96</td>\n",
       "      <td>463.664,40</td>\n",
       "      <td>-1.780,40</td>\n",
       "    </tr>\n",
       "    <tr>\n",
       "      <th>92</th>\n",
       "      <td>2022-01-31</td>\n",
       "      <td>29.83</td>\n",
       "      <td>432.829,60</td>\n",
       "      <td>0</td>\n",
       "    </tr>\n",
       "    <tr>\n",
       "      <th>93</th>\n",
       "      <td>2022-02-28</td>\n",
       "      <td>27.34</td>\n",
       "      <td>396.667,60</td>\n",
       "      <td>-803,60</td>\n",
       "    </tr>\n",
       "    <tr>\n",
       "      <th>94</th>\n",
       "      <td>2022-03-07</td>\n",
       "      <td>26.95</td>\n",
       "      <td>391.042,40</td>\n",
       "      <td>-803,60</td>\n",
       "    </tr>\n",
       "  </tbody>\n",
       "</table>\n",
       "<p>95 rows × 4 columns</p>\n",
       "</div>"
      ],
      "text/plain": [
       "   Data do registro  Volume (%)   Volume (m³) Afluência/Defluência (m²)\n",
       "0        2012-04-26       81.79     1.186.624                         0\n",
       "1        2012-05-30       82.00  1.189.708,80                         0\n",
       "2        2012-06-01       81.79     1.186.624                         0\n",
       "3        2012-07-01       78.60     1.140.352                         0\n",
       "4        2012-08-31       74.63     1.082.730                         0\n",
       "..              ...         ...           ...                       ...\n",
       "90       2021-11-30       34.72    503.723,40                 -1.780,40\n",
       "91       2021-12-31       31.96    463.664,40                 -1.780,40\n",
       "92       2022-01-31       29.83    432.829,60                         0\n",
       "93       2022-02-28       27.34    396.667,60                   -803,60\n",
       "94       2022-03-07       26.95    391.042,40                   -803,60\n",
       "\n",
       "[95 rows x 4 columns]"
      ]
     },
     "metadata": {},
     "output_type": "display_data"
    }
   ],
   "source": [
    "filePath = 'volumes_acude_gaviao.csv'\n",
    "df1_gaviao = pd.read_csv(filePath)\n",
    "del df1_gaviao[\"Açude\"]\n",
    "df1_gaviao[\"Data do registro\"] = pd.to_datetime(df1_gaviao[\"Data do registro\"], format=\"%d/%m/%Y\")\n",
    "df1_gaviao['Volume (%)'] = df1_gaviao['Volume (%)'].apply(lambda x : float ( x.replace(',','.') ) )\n",
    "display(dfAcude)"
   ]
  },
  {
   "cell_type": "code",
   "execution_count": 115,
   "id": "1285a7fd",
   "metadata": {
    "scrolled": false
   },
   "outputs": [
    {
     "data": {
      "text/html": [
       "<div>\n",
       "<style scoped>\n",
       "    .dataframe tbody tr th:only-of-type {\n",
       "        vertical-align: middle;\n",
       "    }\n",
       "\n",
       "    .dataframe tbody tr th {\n",
       "        vertical-align: top;\n",
       "    }\n",
       "\n",
       "    .dataframe thead th {\n",
       "        text-align: right;\n",
       "    }\n",
       "</style>\n",
       "<table border=\"1\" class=\"dataframe\">\n",
       "  <thead>\n",
       "    <tr style=\"text-align: right;\">\n",
       "      <th></th>\n",
       "      <th>Volume (%)</th>\n",
       "      <th>Volume (m³)</th>\n",
       "      <th>Afluência/Defluência (m²)</th>\n",
       "    </tr>\n",
       "    <tr>\n",
       "      <th>Data do registro</th>\n",
       "      <th></th>\n",
       "      <th></th>\n",
       "      <th></th>\n",
       "    </tr>\n",
       "  </thead>\n",
       "  <tbody>\n",
       "    <tr>\n",
       "      <th>2012-04-26</th>\n",
       "      <td>81.79</td>\n",
       "      <td>1.186.624</td>\n",
       "      <td>0</td>\n",
       "    </tr>\n",
       "    <tr>\n",
       "      <th>2012-05-30</th>\n",
       "      <td>82.00</td>\n",
       "      <td>1.189.708,80</td>\n",
       "      <td>0</td>\n",
       "    </tr>\n",
       "    <tr>\n",
       "      <th>2012-06-01</th>\n",
       "      <td>81.79</td>\n",
       "      <td>1.186.624</td>\n",
       "      <td>0</td>\n",
       "    </tr>\n",
       "    <tr>\n",
       "      <th>2012-07-01</th>\n",
       "      <td>78.60</td>\n",
       "      <td>1.140.352</td>\n",
       "      <td>0</td>\n",
       "    </tr>\n",
       "    <tr>\n",
       "      <th>2012-08-31</th>\n",
       "      <td>74.63</td>\n",
       "      <td>1.082.730</td>\n",
       "      <td>0</td>\n",
       "    </tr>\n",
       "    <tr>\n",
       "      <th>...</th>\n",
       "      <td>...</td>\n",
       "      <td>...</td>\n",
       "      <td>...</td>\n",
       "    </tr>\n",
       "    <tr>\n",
       "      <th>2021-11-30</th>\n",
       "      <td>34.72</td>\n",
       "      <td>503.723,40</td>\n",
       "      <td>-1.780,40</td>\n",
       "    </tr>\n",
       "    <tr>\n",
       "      <th>2021-12-31</th>\n",
       "      <td>31.96</td>\n",
       "      <td>463.664,40</td>\n",
       "      <td>-1.780,40</td>\n",
       "    </tr>\n",
       "    <tr>\n",
       "      <th>2022-01-31</th>\n",
       "      <td>29.83</td>\n",
       "      <td>432.829,60</td>\n",
       "      <td>0</td>\n",
       "    </tr>\n",
       "    <tr>\n",
       "      <th>2022-02-28</th>\n",
       "      <td>27.34</td>\n",
       "      <td>396.667,60</td>\n",
       "      <td>-803,60</td>\n",
       "    </tr>\n",
       "    <tr>\n",
       "      <th>2022-03-07</th>\n",
       "      <td>26.95</td>\n",
       "      <td>391.042,40</td>\n",
       "      <td>-803,60</td>\n",
       "    </tr>\n",
       "  </tbody>\n",
       "</table>\n",
       "<p>95 rows × 3 columns</p>\n",
       "</div>"
      ],
      "text/plain": [
       "                  Volume (%)   Volume (m³) Afluência/Defluência (m²)\n",
       "Data do registro                                                    \n",
       "2012-04-26             81.79     1.186.624                         0\n",
       "2012-05-30             82.00  1.189.708,80                         0\n",
       "2012-06-01             81.79     1.186.624                         0\n",
       "2012-07-01             78.60     1.140.352                         0\n",
       "2012-08-31             74.63     1.082.730                         0\n",
       "...                      ...           ...                       ...\n",
       "2021-11-30             34.72    503.723,40                 -1.780,40\n",
       "2021-12-31             31.96    463.664,40                 -1.780,40\n",
       "2022-01-31             29.83    432.829,60                         0\n",
       "2022-02-28             27.34    396.667,60                   -803,60\n",
       "2022-03-07             26.95    391.042,40                   -803,60\n",
       "\n",
       "[95 rows x 3 columns]"
      ]
     },
     "metadata": {},
     "output_type": "display_data"
    }
   ],
   "source": [
    "df2_gaviao = df1_gaviao.set_index(pd.DatetimeIndex(df1_gaviao['Data do registro']))\n",
    "del df2_gaviao['Data do registro']\n",
    "display(df2_gaviao)"
   ]
  },
  {
   "cell_type": "code",
   "execution_count": 73,
   "id": "070c8b2f",
   "metadata": {},
   "outputs": [],
   "source": [
    "# dfAcude_dateIndex.describe()"
   ]
  },
  {
   "cell_type": "code",
   "execution_count": 162,
   "id": "5a923a79",
   "metadata": {
    "scrolled": false
   },
   "outputs": [
    {
     "data": {
      "image/png": "[encoded data removed]",
      "text/plain": [
       "<Figure size 864x576 with 1 Axes>"
      ]
     },
     "metadata": {},
     "output_type": "display_data"
    }
   ],
   "source": [
    "import matplotlib, matplotlib.pyplot as plt\n",
    "\n",
    "matplotlib.style.use(\"ggplot\")\n",
    "plt.figure(figsize=(12, 8))\n",
    "plt.plot(df2_gaviao[\"Volume (%)\"])\n",
    "\n",
    "plt.title(\"Açude do Gavião - Época da Seca (01/10/2012 ate 31/03/2022)\")\n",
    "plt.xlabel(\"Ano\")\n",
    "plt.ylabel(\"Volume (%)\")\n",
    "plt.savefig(\"acude_gaviao-seca.pdf\")\n",
    "plt.show()"
   ]
  },
  {
   "cell_type": "code",
   "execution_count": 122,
   "id": "9426b11d",
   "metadata": {},
   "outputs": [
    {
     "name": "stdout",
     "output_type": "stream",
     "text": [
      "[1, 2, 3, 4, 5, 6, 7, 8, 9]\n",
      "95\n"
     ]
    },
    {
     "data": {
      "text/html": [
       "<div>\n",
       "<style scoped>\n",
       "    .dataframe tbody tr th:only-of-type {\n",
       "        vertical-align: middle;\n",
       "    }\n",
       "\n",
       "    .dataframe tbody tr th {\n",
       "        vertical-align: top;\n",
       "    }\n",
       "\n",
       "    .dataframe thead th {\n",
       "        text-align: right;\n",
       "    }\n",
       "</style>\n",
       "<table border=\"1\" class=\"dataframe\">\n",
       "  <thead>\n",
       "    <tr style=\"text-align: right;\">\n",
       "      <th></th>\n",
       "      <th>Volume (%)</th>\n",
       "      <th>Volume (m³)</th>\n",
       "      <th>Afluência/Defluência (m²)</th>\n",
       "    </tr>\n",
       "    <tr>\n",
       "      <th>Data do registro</th>\n",
       "      <th></th>\n",
       "      <th></th>\n",
       "      <th></th>\n",
       "    </tr>\n",
       "  </thead>\n",
       "  <tbody>\n",
       "    <tr>\n",
       "      <th>2012-04-26</th>\n",
       "      <td>81.79</td>\n",
       "      <td>1.186.624</td>\n",
       "      <td>0</td>\n",
       "    </tr>\n",
       "    <tr>\n",
       "      <th>2012-05-30</th>\n",
       "      <td>82.00</td>\n",
       "      <td>1.189.708,80</td>\n",
       "      <td>0</td>\n",
       "    </tr>\n",
       "    <tr>\n",
       "      <th>2012-06-01</th>\n",
       "      <td>81.79</td>\n",
       "      <td>1.186.624</td>\n",
       "      <td>0</td>\n",
       "    </tr>\n",
       "    <tr>\n",
       "      <th>2012-07-01</th>\n",
       "      <td>78.60</td>\n",
       "      <td>1.140.352</td>\n",
       "      <td>0</td>\n",
       "    </tr>\n",
       "    <tr>\n",
       "      <th>2012-08-31</th>\n",
       "      <td>74.63</td>\n",
       "      <td>1.082.730</td>\n",
       "      <td>0</td>\n",
       "    </tr>\n",
       "  </tbody>\n",
       "</table>\n",
       "</div>"
      ],
      "text/plain": [
       "                  Volume (%)   Volume (m³) Afluência/Defluência (m²)\n",
       "Data do registro                                                    \n",
       "2012-04-26             81.79     1.186.624                         0\n",
       "2012-05-30             82.00  1.189.708,80                         0\n",
       "2012-06-01             81.79     1.186.624                         0\n",
       "2012-07-01             78.60     1.140.352                         0\n",
       "2012-08-31             74.63     1.082.730                         0"
      ]
     },
     "execution_count": 122,
     "metadata": {},
     "output_type": "execute_result"
    }
   ],
   "source": [
    "print(list(range(1,10)))\n",
    "print(len(df2_gaviao))\n",
    "df2_gaviao.head()"
   ]
  },
  {
   "cell_type": "code",
   "execution_count": 124,
   "id": "5b3779dc",
   "metadata": {},
   "outputs": [
    {
     "data": {
      "text/html": [
       "<div>\n",
       "<style scoped>\n",
       "    .dataframe tbody tr th:only-of-type {\n",
       "        vertical-align: middle;\n",
       "    }\n",
       "\n",
       "    .dataframe tbody tr th {\n",
       "        vertical-align: top;\n",
       "    }\n",
       "\n",
       "    .dataframe thead th {\n",
       "        text-align: right;\n",
       "    }\n",
       "</style>\n",
       "<table border=\"1\" class=\"dataframe\">\n",
       "  <thead>\n",
       "    <tr style=\"text-align: right;\">\n",
       "      <th></th>\n",
       "      <th>Volume (%)</th>\n",
       "      <th>Volume (m³)</th>\n",
       "      <th>Afluência/Defluência (m²)</th>\n",
       "      <th>mes</th>\n",
       "    </tr>\n",
       "    <tr>\n",
       "      <th>Data do registro</th>\n",
       "      <th></th>\n",
       "      <th></th>\n",
       "      <th></th>\n",
       "      <th></th>\n",
       "    </tr>\n",
       "  </thead>\n",
       "  <tbody>\n",
       "    <tr>\n",
       "      <th>2012-04-26</th>\n",
       "      <td>81.79</td>\n",
       "      <td>1.186.624</td>\n",
       "      <td>0</td>\n",
       "      <td>1</td>\n",
       "    </tr>\n",
       "    <tr>\n",
       "      <th>2012-05-30</th>\n",
       "      <td>82.00</td>\n",
       "      <td>1.189.708,80</td>\n",
       "      <td>0</td>\n",
       "      <td>2</td>\n",
       "    </tr>\n",
       "    <tr>\n",
       "      <th>2012-06-01</th>\n",
       "      <td>81.79</td>\n",
       "      <td>1.186.624</td>\n",
       "      <td>0</td>\n",
       "      <td>3</td>\n",
       "    </tr>\n",
       "    <tr>\n",
       "      <th>2012-07-01</th>\n",
       "      <td>78.60</td>\n",
       "      <td>1.140.352</td>\n",
       "      <td>0</td>\n",
       "      <td>4</td>\n",
       "    </tr>\n",
       "    <tr>\n",
       "      <th>2012-08-31</th>\n",
       "      <td>74.63</td>\n",
       "      <td>1.082.730</td>\n",
       "      <td>0</td>\n",
       "      <td>5</td>\n",
       "    </tr>\n",
       "  </tbody>\n",
       "</table>\n",
       "</div>"
      ],
      "text/plain": [
       "                  Volume (%)   Volume (m³) Afluência/Defluência (m²)  mes\n",
       "Data do registro                                                         \n",
       "2012-04-26             81.79     1.186.624                         0    1\n",
       "2012-05-30             82.00  1.189.708,80                         0    2\n",
       "2012-06-01             81.79     1.186.624                         0    3\n",
       "2012-07-01             78.60     1.140.352                         0    4\n",
       "2012-08-31             74.63     1.082.730                         0    5"
      ]
     },
     "execution_count": 124,
     "metadata": {},
     "output_type": "execute_result"
    }
   ],
   "source": [
    "# criar uma coluna com os dias\n",
    "df3_gaviao = df2_gaviao\n",
    "numero_de_medicoes = len(df3_gaviao)\n",
    "df3_gaviao[\"mes\"] = range(1,numero_de_medicoes+1)\n",
    "df3_gaviao.head()"
   ]
  },
  {
   "cell_type": "code",
   "execution_count": 126,
   "id": "d5202758",
   "metadata": {},
   "outputs": [
    {
     "name": "stdout",
     "output_type": "stream",
     "text": [
      "95\n"
     ]
    },
    {
     "data": {
      "text/html": [
       "<div>\n",
       "<style scoped>\n",
       "    .dataframe tbody tr th:only-of-type {\n",
       "        vertical-align: middle;\n",
       "    }\n",
       "\n",
       "    .dataframe tbody tr th {\n",
       "        vertical-align: top;\n",
       "    }\n",
       "\n",
       "    .dataframe thead th {\n",
       "        text-align: right;\n",
       "    }\n",
       "</style>\n",
       "<table border=\"1\" class=\"dataframe\">\n",
       "  <thead>\n",
       "    <tr style=\"text-align: right;\">\n",
       "      <th></th>\n",
       "      <th>Volume (%)</th>\n",
       "      <th>Volume (m³)</th>\n",
       "      <th>Afluência/Defluência (m²)</th>\n",
       "      <th>mes</th>\n",
       "    </tr>\n",
       "    <tr>\n",
       "      <th>Data do registro</th>\n",
       "      <th></th>\n",
       "      <th></th>\n",
       "      <th></th>\n",
       "      <th></th>\n",
       "    </tr>\n",
       "  </thead>\n",
       "  <tbody>\n",
       "    <tr>\n",
       "      <th>2021-11-30</th>\n",
       "      <td>34.72</td>\n",
       "      <td>503.723,40</td>\n",
       "      <td>-1.780,40</td>\n",
       "      <td>91</td>\n",
       "    </tr>\n",
       "    <tr>\n",
       "      <th>2021-12-31</th>\n",
       "      <td>31.96</td>\n",
       "      <td>463.664,40</td>\n",
       "      <td>-1.780,40</td>\n",
       "      <td>92</td>\n",
       "    </tr>\n",
       "    <tr>\n",
       "      <th>2022-01-31</th>\n",
       "      <td>29.83</td>\n",
       "      <td>432.829,60</td>\n",
       "      <td>0</td>\n",
       "      <td>93</td>\n",
       "    </tr>\n",
       "    <tr>\n",
       "      <th>2022-02-28</th>\n",
       "      <td>27.34</td>\n",
       "      <td>396.667,60</td>\n",
       "      <td>-803,60</td>\n",
       "      <td>94</td>\n",
       "    </tr>\n",
       "    <tr>\n",
       "      <th>2022-03-07</th>\n",
       "      <td>26.95</td>\n",
       "      <td>391.042,40</td>\n",
       "      <td>-803,60</td>\n",
       "      <td>95</td>\n",
       "    </tr>\n",
       "  </tbody>\n",
       "</table>\n",
       "</div>"
      ],
      "text/plain": [
       "                  Volume (%) Volume (m³) Afluência/Defluência (m²)  mes\n",
       "Data do registro                                                       \n",
       "2021-11-30             34.72  503.723,40                 -1.780,40   91\n",
       "2021-12-31             31.96  463.664,40                 -1.780,40   92\n",
       "2022-01-31             29.83  432.829,60                         0   93\n",
       "2022-02-28             27.34  396.667,60                   -803,60   94\n",
       "2022-03-07             26.95  391.042,40                   -803,60   95"
      ]
     },
     "execution_count": 126,
     "metadata": {},
     "output_type": "execute_result"
    }
   ],
   "source": [
    "print(len(df3_gaviao)) # numero de tuplas ou linhas ou medições\n",
    "df3_gaviao.tail()"
   ]
  },
  {
   "cell_type": "code",
   "execution_count": 128,
   "id": "03478b51",
   "metadata": {},
   "outputs": [],
   "source": [
    "import warnings\n",
    "warnings.filterwarnings('ignore')\n",
    "\n",
    "import numpy, pandas as pd\n",
    "import sklearn.linear_model as lm\n",
    "\n",
    "\n",
    "olm = lm.LinearRegression()\n",
    "\n",
    "X = df3_gaviao['mes'].values.reshape(-1, 1)\n",
    "y = df3_gaviao[\"Volume (%)\"].values"
   ]
  },
  {
   "cell_type": "code",
   "execution_count": 95,
   "id": "35a68924",
   "metadata": {},
   "outputs": [
    {
     "data": {
      "text/plain": [
       "array([[112]])"
      ]
     },
     "execution_count": 95,
     "metadata": {},
     "output_type": "execute_result"
    }
   ],
   "source": [
    "# Previsao com o modelo - Método Predict\n",
    "import numpy as np\n",
    "\n",
    "x1 = np.array(x1).reshape(-1, 1)\n",
    "x1"
   ]
  },
  {
   "cell_type": "code",
   "execution_count": 129,
   "id": "a7422f6c",
   "metadata": {},
   "outputs": [
    {
     "data": {
      "text/plain": [
       "array([[1],\n",
       "       [2],\n",
       "       [3],\n",
       "       [4],\n",
       "       [5]], dtype=int64)"
      ]
     },
     "execution_count": 129,
     "metadata": {},
     "output_type": "execute_result"
    }
   ],
   "source": [
    "X[:5]"
   ]
  },
  {
   "cell_type": "code",
   "execution_count": 130,
   "id": "cfabab3a",
   "metadata": {},
   "outputs": [
    {
     "data": {
      "text/plain": [
       "array([81.79, 82.  , 81.79, 78.6 , 74.63])"
      ]
     },
     "execution_count": 130,
     "metadata": {},
     "output_type": "execute_result"
    }
   ],
   "source": [
    "y[:5]"
   ]
  },
  {
   "cell_type": "code",
   "execution_count": 132,
   "id": "e284944d",
   "metadata": {},
   "outputs": [
    {
     "data": {
      "text/plain": [
       "LinearRegression()"
      ]
     },
     "execution_count": 132,
     "metadata": {},
     "output_type": "execute_result"
    }
   ],
   "source": [
    "olm.fit(X, y) # HIPERPARAMETROS -  epochs=100, learning_rate=0.001, momentum=0.8, optimizer='SGD') HIPERPARAMETROS\n",
    "olm"
   ]
  },
  {
   "cell_type": "code",
   "execution_count": 133,
   "id": "2e397592",
   "metadata": {},
   "outputs": [
    {
     "name": "stdout",
     "output_type": "stream",
     "text": [
      " y = -0.44455081187010104 * x + 56.001281075028004\n"
     ]
    }
   ],
   "source": [
    "a = olm.coef_[0]\n",
    "b = olm.intercept_\n",
    "print(' y = {0} * x + {1}'.format(a, b))"
   ]
  },
  {
   "cell_type": "code",
   "execution_count": 134,
   "id": "df8e5e89",
   "metadata": {},
   "outputs": [
    {
     "data": {
      "text/plain": [
       "(48.0, 34.66284210526315)"
      ]
     },
     "execution_count": 134,
     "metadata": {},
     "output_type": "execute_result"
    }
   ],
   "source": [
    "import numpy as np\n",
    "\n",
    "X_media = np.mean(X)\n",
    "y_media = np.mean(y)\n",
    "X_media, y_media"
   ]
  },
  {
   "cell_type": "code",
   "execution_count": 135,
   "id": "e506c33d",
   "metadata": {},
   "outputs": [
    {
     "data": {
      "text/plain": [
       "95"
      ]
     },
     "execution_count": 135,
     "metadata": {},
     "output_type": "execute_result"
    }
   ],
   "source": [
    "n = len(X)\n",
    "n"
   ]
  },
  {
   "cell_type": "code",
   "execution_count": 104,
   "id": "4fd75fe0",
   "metadata": {},
   "outputs": [
    {
     "data": {
      "text/plain": [
       "95"
      ]
     },
     "execution_count": 104,
     "metadata": {},
     "output_type": "execute_result"
    }
   ],
   "source": [
    "numero_de_meses_medicao = len(X)\n",
    "numero_de_meses_medicao"
   ]
  },
  {
   "cell_type": "code",
   "execution_count": 136,
   "id": "5e485c3d",
   "metadata": {},
   "outputs": [
    {
     "name": "stdout",
     "output_type": "stream",
     "text": [
      "[0, 1, 2, 3, 4, 5, 6, 7, 8, 9, 10, 11, 12, 13, 14, 15, 16, 17, 18, 19, 20, 21, 22, 23, 24, 25, 26, 27, 28, 29, 30, 31, 32, 33, 34, 35, 36, 37, 38, 39, 40, 41, 42, 43, 44, 45, 46, 47, 48, 49, 50, 51, 52, 53, 54, 55, 56, 57, 58, 59, 60, 61, 62, 63, 64, 65, 66, 67, 68, 69, 70, 71, 72, 73, 74, 75, 76, 77, 78, 79, 80, 81, 82, 83, 84, 85, 86, 87, 88, 89, 90, 91, 92, 93, 94]\n"
     ]
    }
   ],
   "source": [
    "print(list(range(n)))"
   ]
  },
  {
   "cell_type": "code",
   "execution_count": 106,
   "id": "078c74da",
   "metadata": {},
   "outputs": [
    {
     "data": {
      "text/plain": [
       "(1, 1)"
      ]
     },
     "execution_count": 106,
     "metadata": {},
     "output_type": "execute_result"
    }
   ],
   "source": [
    "numero_de_meses_medicao.shape"
   ]
  },
  {
   "cell_type": "code",
   "execution_count": 137,
   "id": "4b636773",
   "metadata": {},
   "outputs": [
    {
     "data": {
      "text/plain": [
       "-0.4445508118701011"
      ]
     },
     "execution_count": 137,
     "metadata": {},
     "output_type": "execute_result"
    }
   ],
   "source": [
    "numerador = 0\n",
    "denominador = 0\n",
    "for i in range(n):\n",
    "    numerador = numerador + (X[i] - X_media) * (y[i] - y_media)\n",
    "    denominador = denominador + (X[i] - X_media) ** 2\n",
    "\n",
    "b1 = numerador / denominador\n",
    "b1[0]"
   ]
  },
  {
   "cell_type": "code",
   "execution_count": 138,
   "id": "2fc93126",
   "metadata": {},
   "outputs": [
    {
     "data": {
      "text/plain": [
       "56.001281075028004"
      ]
     },
     "execution_count": 138,
     "metadata": {},
     "output_type": "execute_result"
    }
   ],
   "source": [
    "b0 = y_media - b1[0]  * X_media\n",
    "b0"
   ]
  },
  {
   "cell_type": "code",
   "execution_count": 139,
   "id": "62c0d4ac",
   "metadata": {},
   "outputs": [
    {
     "name": "stdout",
     "output_type": "stream",
     "text": [
      " y_prev_algebrico = 56.001281075028004  -0.4445508118701011 * x\n",
      " y_prev = 56.001281075028004  -0.44455081187010104 * x\n"
     ]
    }
   ],
   "source": [
    "print(' y_prev_algebrico = {0}  {1} * x'.format(b0, b1[0]))\n",
    "\n",
    "print(' y_prev = {0}  {1} * x'.format(b, a))"
   ]
  },
  {
   "cell_type": "code",
   "execution_count": 140,
   "id": "2b02e29e",
   "metadata": {},
   "outputs": [
    {
     "data": {
      "text/html": [
       "<div>\n",
       "<style scoped>\n",
       "    .dataframe tbody tr th:only-of-type {\n",
       "        vertical-align: middle;\n",
       "    }\n",
       "\n",
       "    .dataframe tbody tr th {\n",
       "        vertical-align: top;\n",
       "    }\n",
       "\n",
       "    .dataframe thead th {\n",
       "        text-align: right;\n",
       "    }\n",
       "</style>\n",
       "<table border=\"1\" class=\"dataframe\">\n",
       "  <thead>\n",
       "    <tr style=\"text-align: right;\">\n",
       "      <th></th>\n",
       "      <th>Volume (%)</th>\n",
       "      <th>Volume (m³)</th>\n",
       "      <th>Afluência/Defluência (m²)</th>\n",
       "      <th>mes</th>\n",
       "    </tr>\n",
       "    <tr>\n",
       "      <th>Data do registro</th>\n",
       "      <th></th>\n",
       "      <th></th>\n",
       "      <th></th>\n",
       "      <th></th>\n",
       "    </tr>\n",
       "  </thead>\n",
       "  <tbody>\n",
       "    <tr>\n",
       "      <th>2021-11-30</th>\n",
       "      <td>34.72</td>\n",
       "      <td>503.723,40</td>\n",
       "      <td>-1.780,40</td>\n",
       "      <td>91</td>\n",
       "    </tr>\n",
       "    <tr>\n",
       "      <th>2021-12-31</th>\n",
       "      <td>31.96</td>\n",
       "      <td>463.664,40</td>\n",
       "      <td>-1.780,40</td>\n",
       "      <td>92</td>\n",
       "    </tr>\n",
       "    <tr>\n",
       "      <th>2022-01-31</th>\n",
       "      <td>29.83</td>\n",
       "      <td>432.829,60</td>\n",
       "      <td>0</td>\n",
       "      <td>93</td>\n",
       "    </tr>\n",
       "    <tr>\n",
       "      <th>2022-02-28</th>\n",
       "      <td>27.34</td>\n",
       "      <td>396.667,60</td>\n",
       "      <td>-803,60</td>\n",
       "      <td>94</td>\n",
       "    </tr>\n",
       "    <tr>\n",
       "      <th>2022-03-07</th>\n",
       "      <td>26.95</td>\n",
       "      <td>391.042,40</td>\n",
       "      <td>-803,60</td>\n",
       "      <td>95</td>\n",
       "    </tr>\n",
       "  </tbody>\n",
       "</table>\n",
       "</div>"
      ],
      "text/plain": [
       "                  Volume (%) Volume (m³) Afluência/Defluência (m²)  mes\n",
       "Data do registro                                                       \n",
       "2021-11-30             34.72  503.723,40                 -1.780,40   91\n",
       "2021-12-31             31.96  463.664,40                 -1.780,40   92\n",
       "2022-01-31             29.83  432.829,60                         0   93\n",
       "2022-02-28             27.34  396.667,60                   -803,60   94\n",
       "2022-03-07             26.95  391.042,40                   -803,60   95"
      ]
     },
     "execution_count": 140,
     "metadata": {},
     "output_type": "execute_result"
    }
   ],
   "source": [
    "df3_gaviao.tail()"
   ]
  },
  {
   "cell_type": "code",
   "execution_count": 141,
   "id": "6185936f",
   "metadata": {},
   "outputs": [
    {
     "data": {
      "text/plain": [
       "6.211590145576679"
      ]
     },
     "execution_count": 141,
     "metadata": {},
     "output_type": "execute_result"
    }
   ],
   "source": [
    "x1 = 112\n",
    "y_prev = b1[0] * x1 + b0\n",
    "y_prev"
   ]
  },
  {
   "cell_type": "code",
   "execution_count": 142,
   "id": "5139a891",
   "metadata": {},
   "outputs": [
    {
     "data": {
      "text/plain": [
       "array([[112]])"
      ]
     },
     "execution_count": 142,
     "metadata": {},
     "output_type": "execute_result"
    }
   ],
   "source": [
    "# Previsao com o modelo - Método Predict\n",
    "import numpy as np\n",
    "\n",
    "x1 = np.array(x1).reshape(-1, 1)\n",
    "x1"
   ]
  },
  {
   "cell_type": "code",
   "execution_count": 143,
   "id": "45596f16",
   "metadata": {},
   "outputs": [
    {
     "data": {
      "text/plain": [
       "6.211590145576686"
      ]
     },
     "execution_count": 143,
     "metadata": {},
     "output_type": "execute_result"
    }
   ],
   "source": [
    "olm.predict(x1)[0]"
   ]
  },
  {
   "cell_type": "code",
   "execution_count": 144,
   "id": "9e5e9ed7",
   "metadata": {},
   "outputs": [
    {
     "data": {
      "text/plain": [
       "5.7670393337065775"
      ]
     },
     "execution_count": 144,
     "metadata": {},
     "output_type": "execute_result"
    }
   ],
   "source": [
    "x2 = 113\n",
    "y_prev = b1[0] * x2 + b0\n",
    "y_prev"
   ]
  },
  {
   "cell_type": "code",
   "execution_count": 145,
   "id": "e6710bb7",
   "metadata": {},
   "outputs": [
    {
     "data": {
      "text/plain": [
       "5.767039333706585"
      ]
     },
     "execution_count": 145,
     "metadata": {},
     "output_type": "execute_result"
    }
   ],
   "source": [
    "# Previsao com o modelo - Método Predict\n",
    "x2 = np.array(x2).reshape(-1, 1)\n",
    "olm.predict(x2)[0]"
   ]
  },
  {
   "cell_type": "code",
   "execution_count": 160,
   "id": "4b442056",
   "metadata": {},
   "outputs": [
    {
     "name": "stdout",
     "output_type": "stream",
     "text": [
      "Equação: y = -0.44455081187010104 * x + 56.001281075028004\n"
     ]
    },
    {
     "data": {
      "image/png": "[encoded data removed]",
      "text/plain": [
       "<Figure size 1080x576 with 1 Axes>"
      ]
     },
     "metadata": {},
     "output_type": "display_data"
    }
   ],
   "source": [
    "# Plot outputs\n",
    "matplotlib.style.use(\"ggplot\")\n",
    "plt.figure(figsize=(15,8))\n",
    "\n",
    "# Plot both data sets\n",
    "#plt.scatter(X_test, Y_test,  color='black')\n",
    "plt.plot(X, y, color='blue',\n",
    "         linewidth=1) # Dados Observados\n",
    "\n",
    "plt.plot(X, olm.predict(X), color='green',\n",
    "         linewidth=1) # Dados Previstos\n",
    "\n",
    "# Add decorations\n",
    "plt.title(\"Açude do Gavião - Época da Seca (2013 a 2016)\")\n",
    "plt.xlabel(\"Ano\")\n",
    "plt.ylabel(\"Volume (%)\")\n",
    "plt.legend([\"Observado\", \"Previsto\",], loc=\"upper right\")\n",
    "\n",
    "print('Equação: y = {0} * x + {1}'.format(a, b))\n",
    "plt.savefig(\"acude_gaviao_olm-seca.pdf\")\n",
    "plt.show()"
   ]
  },
  {
   "cell_type": "code",
   "execution_count": 147,
   "id": "bdc19d2b",
   "metadata": {},
   "outputs": [
    {
     "data": {
      "text/html": [
       "<div>\n",
       "<style scoped>\n",
       "    .dataframe tbody tr th:only-of-type {\n",
       "        vertical-align: middle;\n",
       "    }\n",
       "\n",
       "    .dataframe tbody tr th {\n",
       "        vertical-align: top;\n",
       "    }\n",
       "\n",
       "    .dataframe thead th {\n",
       "        text-align: right;\n",
       "    }\n",
       "</style>\n",
       "<table border=\"1\" class=\"dataframe\">\n",
       "  <thead>\n",
       "    <tr style=\"text-align: right;\">\n",
       "      <th></th>\n",
       "      <th>Volume (%)</th>\n",
       "      <th>Volume (m³)</th>\n",
       "      <th>Afluência/Defluência (m²)</th>\n",
       "      <th>mes</th>\n",
       "      <th>Volume_previsto</th>\n",
       "    </tr>\n",
       "    <tr>\n",
       "      <th>Data do registro</th>\n",
       "      <th></th>\n",
       "      <th></th>\n",
       "      <th></th>\n",
       "      <th></th>\n",
       "      <th></th>\n",
       "    </tr>\n",
       "  </thead>\n",
       "  <tbody>\n",
       "    <tr>\n",
       "      <th>2012-04-26</th>\n",
       "      <td>81.79</td>\n",
       "      <td>1.186.624</td>\n",
       "      <td>0</td>\n",
       "      <td>1</td>\n",
       "      <td>55.556730</td>\n",
       "    </tr>\n",
       "    <tr>\n",
       "      <th>2012-05-30</th>\n",
       "      <td>82.00</td>\n",
       "      <td>1.189.708,80</td>\n",
       "      <td>0</td>\n",
       "      <td>2</td>\n",
       "      <td>55.112179</td>\n",
       "    </tr>\n",
       "    <tr>\n",
       "      <th>2012-06-01</th>\n",
       "      <td>81.79</td>\n",
       "      <td>1.186.624</td>\n",
       "      <td>0</td>\n",
       "      <td>3</td>\n",
       "      <td>54.667629</td>\n",
       "    </tr>\n",
       "    <tr>\n",
       "      <th>2012-07-01</th>\n",
       "      <td>78.60</td>\n",
       "      <td>1.140.352</td>\n",
       "      <td>0</td>\n",
       "      <td>4</td>\n",
       "      <td>54.223078</td>\n",
       "    </tr>\n",
       "    <tr>\n",
       "      <th>2012-08-31</th>\n",
       "      <td>74.63</td>\n",
       "      <td>1.082.730</td>\n",
       "      <td>0</td>\n",
       "      <td>5</td>\n",
       "      <td>53.778527</td>\n",
       "    </tr>\n",
       "  </tbody>\n",
       "</table>\n",
       "</div>"
      ],
      "text/plain": [
       "                  Volume (%)   Volume (m³) Afluência/Defluência (m²)  mes  \\\n",
       "Data do registro                                                            \n",
       "2012-04-26             81.79     1.186.624                         0    1   \n",
       "2012-05-30             82.00  1.189.708,80                         0    2   \n",
       "2012-06-01             81.79     1.186.624                         0    3   \n",
       "2012-07-01             78.60     1.140.352                         0    4   \n",
       "2012-08-31             74.63     1.082.730                         0    5   \n",
       "\n",
       "                  Volume_previsto  \n",
       "Data do registro                   \n",
       "2012-04-26              55.556730  \n",
       "2012-05-30              55.112179  \n",
       "2012-06-01              54.667629  \n",
       "2012-07-01              54.223078  \n",
       "2012-08-31              53.778527  "
      ]
     },
     "execution_count": 147,
     "metadata": {},
     "output_type": "execute_result"
    }
   ],
   "source": [
    "# Predict values\n",
    "from sklearn.metrics import r2_score\n",
    "\n",
    "y_pred = olm.predict(df3_gaviao['mes'].values.reshape(-1,1))\n",
    "\n",
    "df3_gaviao['Volume_previsto'] = y_pred\n",
    "\n",
    "df3_gaviao.head()"
   ]
  },
  {
   "cell_type": "code",
   "execution_count": 148,
   "id": "6c282952",
   "metadata": {},
   "outputs": [
    {
     "name": "stdout",
     "output_type": "stream",
     "text": [
      "r2 =  0.34654462511181594\n"
     ]
    }
   ],
   "source": [
    "# Evaluate the model\n",
    "r2 = r2_score(y, y_pred)\n",
    "print('r2 = ', r2 )"
   ]
  },
  {
   "cell_type": "code",
   "execution_count": 149,
   "id": "9f017b7c",
   "metadata": {},
   "outputs": [
    {
     "data": {
      "text/plain": [
       "95"
      ]
     },
     "execution_count": 149,
     "metadata": {},
     "output_type": "execute_result"
    }
   ],
   "source": [
    "numero_de_meses_medicao = len(X)\n",
    "numero_de_meses_medicao"
   ]
  },
  {
   "cell_type": "code",
   "execution_count": 150,
   "id": "5449076a",
   "metadata": {},
   "outputs": [
    {
     "data": {
      "text/plain": [
       "array([[95]])"
      ]
     },
     "execution_count": 150,
     "metadata": {},
     "output_type": "execute_result"
    }
   ],
   "source": [
    "import numpy as np\n",
    "numero_de_meses_medicao = np.array(numero_de_meses_medicao).reshape(1, -1)\n",
    "numero_de_meses_medicao"
   ]
  },
  {
   "cell_type": "code",
   "execution_count": 151,
   "id": "a791b527",
   "metadata": {},
   "outputs": [
    {
     "data": {
      "text/plain": [
       "(1, 1)"
      ]
     },
     "execution_count": 151,
     "metadata": {},
     "output_type": "execute_result"
    }
   ],
   "source": [
    "numero_de_meses_medicao.shape"
   ]
  },
  {
   "cell_type": "code",
   "execution_count": 152,
   "id": "1b4f3e9c",
   "metadata": {},
   "outputs": [
    {
     "name": "stdout",
     "output_type": "stream",
     "text": [
      "Volume do Gavião depois de um mes =  13.32 %\n"
     ]
    }
   ],
   "source": [
    "# predicao para 30 dias - 1 mes de medicao\n",
    "#numero_de_meses_medicao = np.array(numero_de_meses_medicao).reshape(1, -1)\n",
    "pred = olm.predict(numero_de_meses_medicao+1)[0]\n",
    "print (\"Volume do Gavião depois de um mes = %6.2f %%\" % (pred))"
   ]
  },
  {
   "cell_type": "code",
   "execution_count": 153,
   "id": "1234a5fb",
   "metadata": {},
   "outputs": [
    {
     "name": "stdout",
     "output_type": "stream",
     "text": [
      "Volume Boqueirão depois de 2 meses =  12.88 %\n"
     ]
    }
   ],
   "source": [
    "# predicao para 60 dias - 2 meses\n",
    "numero_de_meses_medicao = np.array(numero_de_meses_medicao).reshape(1, -1)\n",
    "pred = olm.predict(numero_de_meses_medicao+2)[0]\n",
    "print (\"Volume Boqueirão depois de 2 meses = %6.2f %%\" % (pred))"
   ]
  },
  {
   "cell_type": "code",
   "execution_count": 154,
   "id": "9b7562a5",
   "metadata": {},
   "outputs": [
    {
     "data": {
      "text/html": [
       "<div>\n",
       "<style scoped>\n",
       "    .dataframe tbody tr th:only-of-type {\n",
       "        vertical-align: middle;\n",
       "    }\n",
       "\n",
       "    .dataframe tbody tr th {\n",
       "        vertical-align: top;\n",
       "    }\n",
       "\n",
       "    .dataframe thead th {\n",
       "        text-align: right;\n",
       "    }\n",
       "</style>\n",
       "<table border=\"1\" class=\"dataframe\">\n",
       "  <thead>\n",
       "    <tr style=\"text-align: right;\">\n",
       "      <th></th>\n",
       "      <th>Volume (%)</th>\n",
       "      <th>Volume (m³)</th>\n",
       "      <th>Afluência/Defluência (m²)</th>\n",
       "      <th>mes</th>\n",
       "      <th>Volume_previsto</th>\n",
       "    </tr>\n",
       "    <tr>\n",
       "      <th>Data do registro</th>\n",
       "      <th></th>\n",
       "      <th></th>\n",
       "      <th></th>\n",
       "      <th></th>\n",
       "      <th></th>\n",
       "    </tr>\n",
       "  </thead>\n",
       "  <tbody>\n",
       "    <tr>\n",
       "      <th>2012-04-26</th>\n",
       "      <td>81.79</td>\n",
       "      <td>1.186.624</td>\n",
       "      <td>0</td>\n",
       "      <td>1</td>\n",
       "      <td>55.556730</td>\n",
       "    </tr>\n",
       "    <tr>\n",
       "      <th>2012-05-30</th>\n",
       "      <td>82.00</td>\n",
       "      <td>1.189.708,80</td>\n",
       "      <td>0</td>\n",
       "      <td>2</td>\n",
       "      <td>55.112179</td>\n",
       "    </tr>\n",
       "    <tr>\n",
       "      <th>2012-06-01</th>\n",
       "      <td>81.79</td>\n",
       "      <td>1.186.624</td>\n",
       "      <td>0</td>\n",
       "      <td>3</td>\n",
       "      <td>54.667629</td>\n",
       "    </tr>\n",
       "    <tr>\n",
       "      <th>2012-07-01</th>\n",
       "      <td>78.60</td>\n",
       "      <td>1.140.352</td>\n",
       "      <td>0</td>\n",
       "      <td>4</td>\n",
       "      <td>54.223078</td>\n",
       "    </tr>\n",
       "    <tr>\n",
       "      <th>2012-08-31</th>\n",
       "      <td>74.63</td>\n",
       "      <td>1.082.730</td>\n",
       "      <td>0</td>\n",
       "      <td>5</td>\n",
       "      <td>53.778527</td>\n",
       "    </tr>\n",
       "  </tbody>\n",
       "</table>\n",
       "</div>"
      ],
      "text/plain": [
       "                  Volume (%)   Volume (m³) Afluência/Defluência (m²)  mes  \\\n",
       "Data do registro                                                            \n",
       "2012-04-26             81.79     1.186.624                         0    1   \n",
       "2012-05-30             82.00  1.189.708,80                         0    2   \n",
       "2012-06-01             81.79     1.186.624                         0    3   \n",
       "2012-07-01             78.60     1.140.352                         0    4   \n",
       "2012-08-31             74.63     1.082.730                         0    5   \n",
       "\n",
       "                  Volume_previsto  \n",
       "Data do registro                   \n",
       "2012-04-26              55.556730  \n",
       "2012-05-30              55.112179  \n",
       "2012-06-01              54.667629  \n",
       "2012-07-01              54.223078  \n",
       "2012-08-31              53.778527  "
      ]
     },
     "execution_count": 154,
     "metadata": {},
     "output_type": "execute_result"
    }
   ],
   "source": [
    "df3.head()"
   ]
  },
  {
   "cell_type": "code",
   "execution_count": 155,
   "id": "d1c48270",
   "metadata": {},
   "outputs": [
    {
     "data": {
      "text/html": [
       "<div>\n",
       "<style scoped>\n",
       "    .dataframe tbody tr th:only-of-type {\n",
       "        vertical-align: middle;\n",
       "    }\n",
       "\n",
       "    .dataframe tbody tr th {\n",
       "        vertical-align: top;\n",
       "    }\n",
       "\n",
       "    .dataframe thead th {\n",
       "        text-align: right;\n",
       "    }\n",
       "</style>\n",
       "<table border=\"1\" class=\"dataframe\">\n",
       "  <thead>\n",
       "    <tr style=\"text-align: right;\">\n",
       "      <th></th>\n",
       "      <th>Volume (%)</th>\n",
       "      <th>Volume (m³)</th>\n",
       "      <th>Afluência/Defluência (m²)</th>\n",
       "      <th>mes</th>\n",
       "      <th>Volume_previsto</th>\n",
       "    </tr>\n",
       "    <tr>\n",
       "      <th>Data do registro</th>\n",
       "      <th></th>\n",
       "      <th></th>\n",
       "      <th></th>\n",
       "      <th></th>\n",
       "      <th></th>\n",
       "    </tr>\n",
       "  </thead>\n",
       "  <tbody>\n",
       "    <tr>\n",
       "      <th>2021-11-30</th>\n",
       "      <td>34.72</td>\n",
       "      <td>503.723,40</td>\n",
       "      <td>-1.780,40</td>\n",
       "      <td>91</td>\n",
       "      <td>15.547157</td>\n",
       "    </tr>\n",
       "    <tr>\n",
       "      <th>2021-12-31</th>\n",
       "      <td>31.96</td>\n",
       "      <td>463.664,40</td>\n",
       "      <td>-1.780,40</td>\n",
       "      <td>92</td>\n",
       "      <td>15.102606</td>\n",
       "    </tr>\n",
       "    <tr>\n",
       "      <th>2022-01-31</th>\n",
       "      <td>29.83</td>\n",
       "      <td>432.829,60</td>\n",
       "      <td>0</td>\n",
       "      <td>93</td>\n",
       "      <td>14.658056</td>\n",
       "    </tr>\n",
       "    <tr>\n",
       "      <th>2022-02-28</th>\n",
       "      <td>27.34</td>\n",
       "      <td>396.667,60</td>\n",
       "      <td>-803,60</td>\n",
       "      <td>94</td>\n",
       "      <td>14.213505</td>\n",
       "    </tr>\n",
       "    <tr>\n",
       "      <th>2022-03-07</th>\n",
       "      <td>26.95</td>\n",
       "      <td>391.042,40</td>\n",
       "      <td>-803,60</td>\n",
       "      <td>95</td>\n",
       "      <td>13.768954</td>\n",
       "    </tr>\n",
       "  </tbody>\n",
       "</table>\n",
       "</div>"
      ],
      "text/plain": [
       "                  Volume (%) Volume (m³) Afluência/Defluência (m²)  mes  \\\n",
       "Data do registro                                                          \n",
       "2021-11-30             34.72  503.723,40                 -1.780,40   91   \n",
       "2021-12-31             31.96  463.664,40                 -1.780,40   92   \n",
       "2022-01-31             29.83  432.829,60                         0   93   \n",
       "2022-02-28             27.34  396.667,60                   -803,60   94   \n",
       "2022-03-07             26.95  391.042,40                   -803,60   95   \n",
       "\n",
       "                  Volume_previsto  \n",
       "Data do registro                   \n",
       "2021-11-30              15.547157  \n",
       "2021-12-31              15.102606  \n",
       "2022-01-31              14.658056  \n",
       "2022-02-28              14.213505  \n",
       "2022-03-07              13.768954  "
      ]
     },
     "execution_count": 155,
     "metadata": {},
     "output_type": "execute_result"
    }
   ],
   "source": [
    "df3.tail()"
   ]
  },
  {
   "cell_type": "code",
   "execution_count": 156,
   "id": "fb3ee3de",
   "metadata": {},
   "outputs": [
    {
     "data": {
      "text/plain": [
       "array([[95]])"
      ]
     },
     "execution_count": 156,
     "metadata": {},
     "output_type": "execute_result"
    }
   ],
   "source": [
    "numero_de_meses_medicao"
   ]
  },
  {
   "cell_type": "code",
   "execution_count": 159,
   "id": "e4c771b6",
   "metadata": {},
   "outputs": [
    {
     "name": "stdout",
     "output_type": "stream",
     "text": [
      "Última observação: 31 de Março de 2017: 3.18% - Volume\n",
      "Erro de Previsão (mês de Março) : Previsto - Observado =  10.59\n",
      "\n",
      "Previsão do Volume do Açude do Gavião até Secar - Ano 2017\n",
      "Volume Açude do Gavião - Mês de Abril -> 13.77%\n",
      "Volume Açude do Gavião - Mês de Maio -> 13.32%\n",
      "Volume Açude do Gavião - Mês de Junho -> 12.88%\n",
      "Volume Açude do Gavião - Mês de Julho -> 12.44%\n",
      "Volume Açude do Gavião - Mês de Agosto -> 11.99%\n",
      "Volume Açude do Gavião - Mês de Setembro -> 11.55%\n",
      "Volume Açude do Gavião - Mês de Outubro -> 11.10%\n",
      "Volume Açude do Gavião - Mês de Novembro -> 10.66%\n",
      "Volume Açude do Gavião - Mês de Dezembro -> 10.21%\n",
      "Volume Açude do Gavião - Mês de Janeiro -> 9.77 %\n",
      "Volume Açude do Gavião - Mês de Fevereiro -> 9.32 %\n"
     ]
    },
    {
     "ename": "IndexError",
     "evalue": "list index out of range",
     "output_type": "error",
     "traceback": [
      "\u001b[1;31m---------------------------------------------------------------------------\u001b[0m",
      "\u001b[1;31mIndexError\u001b[0m                                Traceback (most recent call last)",
      "\u001b[1;32m~\\AppData\\Local\\Temp/ipykernel_25252/3576242464.py\u001b[0m in \u001b[0;36m<module>\u001b[1;34m\u001b[0m\n\u001b[0;32m     14\u001b[0m     \u001b[1;32mif\u001b[0m \u001b[0mpred\u001b[0m \u001b[1;33m>\u001b[0m \u001b[1;36m100\u001b[0m\u001b[1;33m:\u001b[0m \u001b[1;31m# Encher o açude\u001b[0m\u001b[1;33m\u001b[0m\u001b[1;33m\u001b[0m\u001b[0m\n\u001b[0;32m     15\u001b[0m         \u001b[1;32mbreak\u001b[0m\u001b[1;33m\u001b[0m\u001b[1;33m\u001b[0m\u001b[0m\n\u001b[1;32m---> 16\u001b[1;33m     \u001b[0mprint\u001b[0m \u001b[1;33m(\u001b[0m\u001b[1;34m\"Volume Açude do Gavião - Mês de %s -> %-5.2f%%\"\u001b[0m \u001b[1;33m%\u001b[0m \u001b[1;33m(\u001b[0m\u001b[0mnome_meses\u001b[0m\u001b[1;33m[\u001b[0m\u001b[0mmeses\u001b[0m\u001b[1;33m+\u001b[0m\u001b[1;36m1\u001b[0m\u001b[1;33m]\u001b[0m\u001b[1;33m,\u001b[0m\u001b[0mpred\u001b[0m\u001b[1;33m)\u001b[0m\u001b[1;33m)\u001b[0m\u001b[1;33m\u001b[0m\u001b[1;33m\u001b[0m\u001b[0m\n\u001b[0m\u001b[0;32m     17\u001b[0m     \u001b[0mmeses\u001b[0m \u001b[1;33m=\u001b[0m \u001b[0mmeses\u001b[0m \u001b[1;33m+\u001b[0m \u001b[1;36m1\u001b[0m\u001b[1;33m\u001b[0m\u001b[1;33m\u001b[0m\u001b[0m\n\u001b[0;32m     18\u001b[0m    \u001b[1;31m# print(meses)\u001b[0m\u001b[1;33m\u001b[0m\u001b[1;33m\u001b[0m\u001b[0m\n",
      "\u001b[1;31mIndexError\u001b[0m: list index out of range"
     ]
    }
   ],
   "source": [
    "numero_de_meses_medicao = np.array(numero_de_meses_medicao).reshape(1, -1)\n",
    "\n",
    "print(\"Última observação: 31 de Março de 2017: 3.18% - Volume\")\n",
    "print(\"Erro de Previsão (mês de Março) : Previsto - Observado = \", \\\n",
    "      \"{:.2f}\".format(olm.predict(numero_de_meses_medicao)[0] - 3.18) )\n",
    "\n",
    "print (\"\\nPrevisão do Volume do Açude do Gavião até Secar - Ano 2017\")\n",
    "meses = 0\n",
    "nome_meses = [ \"Março\", \"Abril\", \"Maio\", \"Junho\", \"Julho\", \"Agosto\", \"Setembro\", \"Outubro\", \"Novembro\", \"Dezembro\", \"Janeiro\", \"Fevereiro\"]\n",
    "while (True):\n",
    "    pred = olm.predict(numero_de_meses_medicao+meses)[0]\n",
    "    if pred < 0: # Secar o açude\n",
    "        break\n",
    "    if pred > 100: # Encher o açude\n",
    "        break\n",
    "    print (\"Volume Açude do Gavião - Mês de %s -> %-5.2f%%\" % (nome_meses[meses],pred))\n",
    "    meses = meses + 1\n",
    "   # print(meses)\n",
    "pred = olm.predict(numero_de_meses_medicao+meses)[0]\n",
    "print (\"Volume Açude do Gavião - Mês de %s  -> %-5.2f%%\" % (nome_meses[meses],pred))"
   ]
  },
  {
   "cell_type": "code",
   "execution_count": null,
   "id": "30d791aa",
   "metadata": {},
   "outputs": [],
   "source": []
  }
 ],
 "metadata": {
  "kernelspec": {
   "display_name": "Python 3 (ipykernel)",
   "language": "python",
   "name": "python3"
  },
  "language_info": {
   "codemirror_mode": {
    "name": "ipython",
    "version": 3
   },
   "file_extension": ".py",
   "mimetype": "text/x-python",
   "name": "python",
   "nbconvert_exporter": "python",
   "pygments_lexer": "ipython3",
   "version": "3.9.7"
  }
 },
 "nbformat": 4,
 "nbformat_minor": 5
}
