{
 "cells": [
  {
   "cell_type": "markdown",
   "metadata": {},
   "source": [
    "Aluno 1: Lucas de Lucena Siqueira\n",
    "Aluno 2: André Melo Dantas Filho"
   ]
  },
  {
   "cell_type": "code",
   "execution_count": null,
   "metadata": {},
   "outputs": [],
   "source": [
    "#QUESTÃO 01:\n",
    "\n",
    "print('Para calcular o número mínimo de litros necessários para percorrer até o primeiro reabastecimento informe os seguintes valores... ')\n",
    "\n",
    "comprimentoPista = float(input('Digite aqui o comprimento da pista em metros: '))\n",
    "numeroVoltas = int(input('Digite aqui o número de voltas a serem percorridas: '))\n",
    "numeroReabastecimentos = int(input('Digite aqui o número de reabastecimentos desejados: '))\n",
    "consumoCarro = float(input('Digite aqui o consumo do carro em km/litro: '))\n",
    "\n",
    "if comprimentoPista > 0 and numeroVoltas > 0 and numeroReabastecimentos > 0 and consumoCarro > 0:\n",
    "    calculo_voltas_para_abastecimento = numeroVoltas / numeroReabastecimentos\n",
    "\n",
    "    # a variável \"calculo_quilometragem_para_reabastecer\" se refere à quilometragem necessária para que haja um reabastecimento e inclui a conversão de metros para quilômetros.\n",
    "    calculo_quilometragem_para_reabastecer = (calculo_voltas_para_abastecimento * comprimentoPista) / 1000\n",
    "\n",
    "    calculo_litros_para_reabastecer = calculo_quilometragem_para_reabastecer / consumoCarro\n",
    "    print('Serão necessários no mínimo {:.2f} litros para que haja um primeiro reabastecimento.'.format(calculo_litros_para_reabastecer))\n",
    "\n",
    "else:\n",
    "    print('Valores MENORES ou IGUAIS a 0 (zero) são INVÁLIDOS.')"
   ]
  },
  {
   "cell_type": "code",
   "execution_count": null,
   "metadata": {},
   "outputs": [],
   "source": [
    "#QUESTÃO 02:\n",
    "\n",
    "tipoConsumidor= str(input('Seu consumo de água é do tipo residencial, comercial ou industrial? '))\n",
    "\n",
    "if tipoConsumidor == 'residencial' or tipoConsumidor == 'comercial' or tipoConsumidor == 'industrial':\n",
    "    gastoAgua = float(input('Digite o consumo de água em m³: '))\n",
    "    if gastoAgua > 0:\n",
    "        numero_conta =int(input('Digite o número da sua conta: '))\n",
    "\n",
    "        if tipoConsumidor == 'residencial':\n",
    "            custo = 50 + gastoAgua * 0.05\n",
    "            print('-Número da conta: {}\\n'\n",
    "                  '-Valor a ser pago: R${:.2f}' .format(numero_conta, custo))\n",
    "\n",
    "        elif tipoConsumidor =='comercial':\n",
    "            custo = 500 + (gastoAgua - 80) * 0.25\n",
    "            print('-Número da conta: {}\\n'\n",
    "                  '-Valor a ser pago: R${:.2f}'.format(numero_conta, custo))\n",
    "\n",
    "        elif tipoConsumidor =='industrial':\n",
    "            custo = 800 + (gastoAgua - 100) * 0.04\n",
    "            print('-Número da conta: {}\\n'\n",
    "                  '-Valor a ser pago: R${:.2f}'.format(numero_conta, custo))\n",
    "\n",
    "    else:\n",
    "        print('Valor invalido, nao é possivel calcular e informar a sua fatura.')\n",
    "else:\n",
    "    print('Tipo de consumidor invalido, nao é possivel calcular e informar a sua fatura.')"
   ]
  },
  {
   "cell_type": "code",
   "execution_count": null,
   "metadata": {},
   "outputs": [],
   "source": [
    "#QUESTÃO 03:\n",
    "\n",
    "termos = int(input('Digite o número de termos para uma Progressão Aritmética: '))\n",
    "razao = float(input('Digite a razão desejada: '))\n",
    "primeiroTermo = float(input('Digite o primeiro termo da série: '))\n",
    "\n",
    "calculoTermo1 = primeiroTermo + razao\n",
    "\n",
    "if termos <= 0:\n",
    "    print('Número de termos menor ou igual a zero são inválidos. Insira um valor válido.')\n",
    "for pa in range (0, termos):\n",
    "    print('Termo {}: ' .format(pa + 1), calculoTermo1 + (pa - 1) * razao)"
   ]
  },
  {
   "cell_type": "code",
   "execution_count": null,
   "metadata": {},
   "outputs": [],
   "source": [
    "#QUESTÃO 04:\n",
    "\n",
    "contador = 0\n",
    "while contador <3:\n",
    "    login = str(input('Digite seu login:'))\n",
    "    senha = str(input('Digite sua senha:'))\n",
    "    if login == 'kezia' and senha == '123':\n",
    "        print('Login e senha validados. Bem vinda kezia!')\n",
    "        break\n",
    "    else:\n",
    "        print('Login ou senha invalido.')\n",
    "        contador = contador + 1\n",
    "        if contador==3:\n",
    "            print('Tentativas encerradas.')"
   ]
  }
 ],
 "metadata": {
  "kernelspec": {
   "display_name": "Python 3",
   "language": "python",
   "name": "python3"
  },
  "language_info": {
   "codemirror_mode": {
    "name": "ipython",
    "version": 3
   },
   "file_extension": ".py",
   "mimetype": "text/x-python",
   "name": "python",
   "nbconvert_exporter": "python",
   "pygments_lexer": "ipython3",
   "version": "3.8.3"
  }
 },
 "nbformat": 4,
 "nbformat_minor": 4
}
