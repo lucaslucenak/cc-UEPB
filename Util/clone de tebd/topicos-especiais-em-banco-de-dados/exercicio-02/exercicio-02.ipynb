{
 "cells": [
  {
   "cell_type": "markdown",
   "source": [
    "# Exercício 2"
   ],
   "metadata": {}
  },
  {
   "cell_type": "markdown",
   "source": [
    "## Alterar 2 hiperparâmetros."
   ],
   "metadata": {}
  },
  {
   "cell_type": "markdown",
   "source": [
    "### Exemplo 1"
   ],
   "metadata": {}
  },
  {
   "cell_type": "markdown",
   "source": [
    "### Aplicando Gradiente Descendente"
   ],
   "metadata": {}
  },
  {
   "cell_type": "code",
   "execution_count": 1,
   "source": [
    "# O algoritmo inicia com o parâmetro x=6\n",
    "cur_x = 6 \n",
    "\n",
    "# Hiperparêmetro - Learning rate - Passo - Taxa de Aprendizagem\n",
    "rate = 0.1 # 0.01 # 0.1 - 0.5 - 0.01 - 0.001 \n",
    "\n",
    "# Define quando parar o algoritmo\n",
    "# Parar o loop quando a diferença entre os valores de x em 2 iterações consecutivas for menor que 0,000001 \n",
    "# ou quando o número de iterações exceder 10 mil\n",
    "precision = 0.00000001 #0.0000000001 ====> f(cur_x) - f(prev_x)\n",
    "\n",
    "# Inicializa o contador do passo anterior\n",
    "previous_step_size = 1 \n",
    "\n",
    "# Número máximo de iterações - Hiperparametro\n",
    "max_iters = 10000 # Número de Épocas (Epochs)\n",
    "\n",
    "# Contador de iterações\n",
    "iters = 0 \n",
    "\n",
    "# Gradiente da função (x + 5)²  = Derivada -> 2 * (x + 5)\n",
    "df = lambda x: 2 * (x+5) "
   ],
   "outputs": [],
   "metadata": {}
  },
  {
   "cell_type": "code",
   "execution_count": 2,
   "source": [
    "%%time\n",
    "while previous_step_size > precision and iters < max_iters:\n",
    "    \n",
    "    # Armazena o valor corrente de x em prev_x\n",
    "    prev_x = cur_x \n",
    "    \n",
    "    # Aplica o Gradient descent\n",
    "    cur_x = cur_x - rate * df(prev_x) \n",
    "    \n",
    "    # Altera o valor de x\n",
    "    previous_step_size = abs(cur_x - prev_x) \n",
    "    \n",
    "    # Incrementa o número de iterações\n",
    "    iters = iters + 1 \n",
    "    \n",
    "    # Imprime as iterações\n",
    "    print(\"Iteration\", iters,\"\\nValor de x igual a \", cur_x, ' |  x - x_prev:', '{:.10f}'.format(previous_step_size)) \n",
    "    \n",
    "print(\"\\nO mínimo local da função ocorre em: \", cur_x)"
   ],
   "outputs": [
    {
     "output_type": "stream",
     "name": "stdout",
     "text": [
      "Iteration 1 \n",
      "Valor de x igual a  3.8  |  x - x_prev: 2.2000000000\n",
      "Iteration 2 \n",
      "Valor de x igual a  2.0399999999999996  |  x - x_prev: 1.7600000000\n",
      "Iteration 3 \n",
      "Valor de x igual a  0.6319999999999997  |  x - x_prev: 1.4080000000\n",
      "Iteration 4 \n",
      "Valor de x igual a  -0.4944000000000004  |  x - x_prev: 1.1264000000\n",
      "Iteration 5 \n",
      "Valor de x igual a  -1.3955200000000003  |  x - x_prev: 0.9011200000\n",
      "Iteration 6 \n",
      "Valor de x igual a  -2.116416  |  x - x_prev: 0.7208960000\n",
      "Iteration 7 \n",
      "Valor de x igual a  -2.6931328  |  x - x_prev: 0.5767168000\n",
      "Iteration 8 \n",
      "Valor de x igual a  -3.15450624  |  x - x_prev: 0.4613734400\n",
      "Iteration 9 \n",
      "Valor de x igual a  -3.523604992  |  x - x_prev: 0.3690987520\n",
      "Iteration 10 \n",
      "Valor de x igual a  -3.8188839936  |  x - x_prev: 0.2952790016\n",
      "Iteration 11 \n",
      "Valor de x igual a  -4.05510719488  |  x - x_prev: 0.2362232013\n",
      "Iteration 12 \n",
      "Valor de x igual a  -4.244085755904  |  x - x_prev: 0.1889785610\n",
      "Iteration 13 \n",
      "Valor de x igual a  -4.3952686047232  |  x - x_prev: 0.1511828488\n",
      "Iteration 14 \n",
      "Valor de x igual a  -4.51621488377856  |  x - x_prev: 0.1209462791\n",
      "Iteration 15 \n",
      "Valor de x igual a  -4.612971907022848  |  x - x_prev: 0.0967570232\n",
      "Iteration 16 \n",
      "Valor de x igual a  -4.6903775256182785  |  x - x_prev: 0.0774056186\n",
      "Iteration 17 \n",
      "Valor de x igual a  -4.752302020494623  |  x - x_prev: 0.0619244949\n",
      "Iteration 18 \n",
      "Valor de x igual a  -4.8018416163956985  |  x - x_prev: 0.0495395959\n",
      "Iteration 19 \n",
      "Valor de x igual a  -4.841473293116559  |  x - x_prev: 0.0396316767\n",
      "Iteration 20 \n",
      "Valor de x igual a  -4.8731786344932475  |  x - x_prev: 0.0317053414\n",
      "Iteration 21 \n",
      "Valor de x igual a  -4.898542907594598  |  x - x_prev: 0.0253642731\n",
      "Iteration 22 \n",
      "Valor de x igual a  -4.918834326075678  |  x - x_prev: 0.0202914185\n",
      "Iteration 23 \n",
      "Valor de x igual a  -4.935067460860543  |  x - x_prev: 0.0162331348\n",
      "Iteration 24 \n",
      "Valor de x igual a  -4.948053968688434  |  x - x_prev: 0.0129865078\n",
      "Iteration 25 \n",
      "Valor de x igual a  -4.958443174950747  |  x - x_prev: 0.0103892063\n",
      "Iteration 26 \n",
      "Valor de x igual a  -4.966754539960598  |  x - x_prev: 0.0083113650\n",
      "Iteration 27 \n",
      "Valor de x igual a  -4.973403631968479  |  x - x_prev: 0.0066490920\n",
      "Iteration 28 \n",
      "Valor de x igual a  -4.978722905574783  |  x - x_prev: 0.0053192736\n",
      "Iteration 29 \n",
      "Valor de x igual a  -4.982978324459826  |  x - x_prev: 0.0042554189\n",
      "Iteration 30 \n",
      "Valor de x igual a  -4.986382659567861  |  x - x_prev: 0.0034043351\n",
      "Iteration 31 \n",
      "Valor de x igual a  -4.9891061276542885  |  x - x_prev: 0.0027234681\n",
      "Iteration 32 \n",
      "Valor de x igual a  -4.9912849021234305  |  x - x_prev: 0.0021787745\n",
      "Iteration 33 \n",
      "Valor de x igual a  -4.9930279216987445  |  x - x_prev: 0.0017430196\n",
      "Iteration 34 \n",
      "Valor de x igual a  -4.994422337358996  |  x - x_prev: 0.0013944157\n",
      "Iteration 35 \n",
      "Valor de x igual a  -4.995537869887197  |  x - x_prev: 0.0011155325\n",
      "Iteration 36 \n",
      "Valor de x igual a  -4.996430295909757  |  x - x_prev: 0.0008924260\n",
      "Iteration 37 \n",
      "Valor de x igual a  -4.997144236727806  |  x - x_prev: 0.0007139408\n",
      "Iteration 38 \n",
      "Valor de x igual a  -4.997715389382245  |  x - x_prev: 0.0005711527\n",
      "Iteration 39 \n",
      "Valor de x igual a  -4.998172311505796  |  x - x_prev: 0.0004569221\n",
      "Iteration 40 \n",
      "Valor de x igual a  -4.998537849204636  |  x - x_prev: 0.0003655377\n",
      "Iteration 41 \n",
      "Valor de x igual a  -4.998830279363709  |  x - x_prev: 0.0002924302\n",
      "Iteration 42 \n",
      "Valor de x igual a  -4.999064223490967  |  x - x_prev: 0.0002339441\n",
      "Iteration 43 \n",
      "Valor de x igual a  -4.999251378792773  |  x - x_prev: 0.0001871553\n",
      "Iteration 44 \n",
      "Valor de x igual a  -4.999401103034218  |  x - x_prev: 0.0001497242\n",
      "Iteration 45 \n",
      "Valor de x igual a  -4.999520882427374  |  x - x_prev: 0.0001197794\n",
      "Iteration 46 \n",
      "Valor de x igual a  -4.999616705941899  |  x - x_prev: 0.0000958235\n",
      "Iteration 47 \n",
      "Valor de x igual a  -4.9996933647535196  |  x - x_prev: 0.0000766588\n",
      "Iteration 48 \n",
      "Valor de x igual a  -4.999754691802815  |  x - x_prev: 0.0000613270\n",
      "Iteration 49 \n",
      "Valor de x igual a  -4.999803753442253  |  x - x_prev: 0.0000490616\n",
      "Iteration 50 \n",
      "Valor de x igual a  -4.999843002753802  |  x - x_prev: 0.0000392493\n",
      "Iteration 51 \n",
      "Valor de x igual a  -4.999874402203042  |  x - x_prev: 0.0000313994\n",
      "Iteration 52 \n",
      "Valor de x igual a  -4.999899521762433  |  x - x_prev: 0.0000251196\n",
      "Iteration 53 \n",
      "Valor de x igual a  -4.9999196174099465  |  x - x_prev: 0.0000200956\n",
      "Iteration 54 \n",
      "Valor de x igual a  -4.999935693927958  |  x - x_prev: 0.0000160765\n",
      "Iteration 55 \n",
      "Valor de x igual a  -4.999948555142366  |  x - x_prev: 0.0000128612\n",
      "Iteration 56 \n",
      "Valor de x igual a  -4.999958844113893  |  x - x_prev: 0.0000102890\n",
      "Iteration 57 \n",
      "Valor de x igual a  -4.9999670752911145  |  x - x_prev: 0.0000082312\n",
      "Iteration 58 \n",
      "Valor de x igual a  -4.999973660232891  |  x - x_prev: 0.0000065849\n",
      "Iteration 59 \n",
      "Valor de x igual a  -4.999978928186313  |  x - x_prev: 0.0000052680\n",
      "Iteration 60 \n",
      "Valor de x igual a  -4.99998314254905  |  x - x_prev: 0.0000042144\n",
      "Iteration 61 \n",
      "Valor de x igual a  -4.99998651403924  |  x - x_prev: 0.0000033715\n",
      "Iteration 62 \n",
      "Valor de x igual a  -4.999989211231393  |  x - x_prev: 0.0000026972\n",
      "Iteration 63 \n",
      "Valor de x igual a  -4.999991368985114  |  x - x_prev: 0.0000021578\n",
      "Iteration 64 \n",
      "Valor de x igual a  -4.999993095188091  |  x - x_prev: 0.0000017262\n",
      "Iteration 65 \n",
      "Valor de x igual a  -4.999994476150473  |  x - x_prev: 0.0000013810\n",
      "Iteration 66 \n",
      "Valor de x igual a  -4.999995580920379  |  x - x_prev: 0.0000011048\n",
      "Iteration 67 \n",
      "Valor de x igual a  -4.999996464736303  |  x - x_prev: 0.0000008838\n",
      "Iteration 68 \n",
      "Valor de x igual a  -4.999997171789042  |  x - x_prev: 0.0000007071\n",
      "Iteration 69 \n",
      "Valor de x igual a  -4.999997737431234  |  x - x_prev: 0.0000005656\n",
      "Iteration 70 \n",
      "Valor de x igual a  -4.9999981899449875  |  x - x_prev: 0.0000004525\n",
      "Iteration 71 \n",
      "Valor de x igual a  -4.99999855195599  |  x - x_prev: 0.0000003620\n",
      "Iteration 72 \n",
      "Valor de x igual a  -4.999998841564792  |  x - x_prev: 0.0000002896\n",
      "Iteration 73 \n",
      "Valor de x igual a  -4.999999073251834  |  x - x_prev: 0.0000002317\n",
      "Iteration 74 \n",
      "Valor de x igual a  -4.999999258601467  |  x - x_prev: 0.0000001853\n",
      "Iteration 75 \n",
      "Valor de x igual a  -4.999999406881174  |  x - x_prev: 0.0000001483\n",
      "Iteration 76 \n",
      "Valor de x igual a  -4.999999525504939  |  x - x_prev: 0.0000001186\n",
      "Iteration 77 \n",
      "Valor de x igual a  -4.999999620403951  |  x - x_prev: 0.0000000949\n",
      "Iteration 78 \n",
      "Valor de x igual a  -4.999999696323161  |  x - x_prev: 0.0000000759\n",
      "Iteration 79 \n",
      "Valor de x igual a  -4.999999757058529  |  x - x_prev: 0.0000000607\n",
      "Iteration 80 \n",
      "Valor de x igual a  -4.999999805646823  |  x - x_prev: 0.0000000486\n",
      "Iteration 81 \n",
      "Valor de x igual a  -4.9999998445174585  |  x - x_prev: 0.0000000389\n",
      "Iteration 82 \n",
      "Valor de x igual a  -4.999999875613967  |  x - x_prev: 0.0000000311\n",
      "Iteration 83 \n",
      "Valor de x igual a  -4.999999900491174  |  x - x_prev: 0.0000000249\n",
      "Iteration 84 \n",
      "Valor de x igual a  -4.9999999203929395  |  x - x_prev: 0.0000000199\n",
      "Iteration 85 \n",
      "Valor de x igual a  -4.999999936314351  |  x - x_prev: 0.0000000159\n",
      "Iteration 86 \n",
      "Valor de x igual a  -4.999999949051481  |  x - x_prev: 0.0000000127\n",
      "Iteration 87 \n",
      "Valor de x igual a  -4.999999959241185  |  x - x_prev: 0.0000000102\n",
      "Iteration 88 \n",
      "Valor de x igual a  -4.999999967392948  |  x - x_prev: 0.0000000082\n",
      "\n",
      "O mínimo local da função ocorre em:  -4.999999967392948\n",
      "CPU times: user 135 ms, sys: 47.2 ms, total: 183 ms\n",
      "Wall time: 113 ms\n"
     ]
    }
   ],
   "metadata": {}
  },
  {
   "cell_type": "code",
   "execution_count": 3,
   "source": [
    "print(\"Iteration\", iters,\"\\nValor de x igual a \", cur_x, '- j:', '{:.10f}'.format(previous_step_size)) \n",
    "    \n",
    "print(\"\\nO mínimo local da função ocorre em: \", cur_x)"
   ],
   "outputs": [
    {
     "output_type": "stream",
     "name": "stdout",
     "text": [
      "Iteration 88 \n",
      "Valor de x igual a  -4.999999967392948 - j: 0.0000000082\n",
      "\n",
      "O mínimo local da função ocorre em:  -4.999999967392948\n"
     ]
    }
   ],
   "metadata": {}
  },
  {
   "cell_type": "markdown",
   "source": [
    "### Exemplo 2"
   ],
   "metadata": {}
  },
  {
   "cell_type": "markdown",
   "source": [
    "### Aplicando Gradiente Descendente"
   ],
   "metadata": {}
  },
  {
   "cell_type": "code",
   "execution_count": 4,
   "source": [
    "# O algoritmo inicia com o parâmetro x=10\n",
    "cur_x = 10 \n",
    "\n",
    "# Hiperparêmetro - Learning rate - Passo - Taxa de Aprendizagem\n",
    "rate = 0.5 # 0.01 # 0.1 - 0.5 - 0.01 - 0.001 \n",
    "\n",
    "# Define quando parar o algoritmo\n",
    "# Parar o loop quando a diferença entre os valores de x em 2 iterações consecutivas for menor que 0,000001 \n",
    "# ou quando o número de iterações exceder 10 mil\n",
    "precision = 0.00000001 #0.0000000001 ====> f(cur_x) - f(prev_x)\n",
    "\n",
    "# Inicializa o contador do passo anterior\n",
    "previous_step_size = 1 \n",
    "\n",
    "# Número máximo de iterações - Hiperparametro\n",
    "max_iters = 10000 # Número de Épocas (Epochs)\n",
    "\n",
    "# Contador de iterações\n",
    "iters = 0 \n",
    "\n",
    "# Gradiente da função (x + 5)²  = Derivada -> 2 * (x + 5)\n",
    "df = lambda x: 2 * (x+5) "
   ],
   "outputs": [],
   "metadata": {}
  },
  {
   "cell_type": "code",
   "execution_count": 5,
   "source": [
    "%%time\n",
    "while previous_step_size > precision and iters < max_iters:\n",
    "    \n",
    "    # Armazena o valor corrente de x em prev_x\n",
    "    prev_x = cur_x \n",
    "    \n",
    "    # Aplica o Gradient descent\n",
    "    cur_x = cur_x - rate * df(prev_x) \n",
    "    \n",
    "    # Altera o valor de x\n",
    "    previous_step_size = abs(cur_x - prev_x) \n",
    "    \n",
    "    # Incrementa o número de iterações\n",
    "    iters = iters + 1 \n",
    "    \n",
    "    # Imprime as iterações\n",
    "    print(\"Iteration\", iters,\"\\nValor de x igual a \", cur_x, ' |  x - x_prev:', '{:.10f}'.format(previous_step_size)) \n",
    "    \n",
    "print(\"\\nO mínimo local da função ocorre em: \", cur_x)"
   ],
   "outputs": [
    {
     "output_type": "stream",
     "name": "stdout",
     "text": [
      "Iteration 1 \n",
      "Valor de x igual a  -5.0  |  x - x_prev: 15.0000000000\n",
      "Iteration 2 \n",
      "Valor de x igual a  -5.0  |  x - x_prev: 0.0000000000\n",
      "\n",
      "O mínimo local da função ocorre em:  -5.0\n",
      "CPU times: user 2.61 ms, sys: 429 µs, total: 3.04 ms\n",
      "Wall time: 1.84 ms\n"
     ]
    }
   ],
   "metadata": {}
  },
  {
   "cell_type": "code",
   "execution_count": 6,
   "source": [
    "print(\"Iteration\", iters,\"\\nValor de x igual a \", cur_x, '- j:', '{:.10f}'.format(previous_step_size)) \n",
    "    \n",
    "print(\"\\nO mínimo local da função ocorre em: \", cur_x)"
   ],
   "outputs": [
    {
     "output_type": "stream",
     "name": "stdout",
     "text": [
      "Iteration 2 \n",
      "Valor de x igual a  -5.0 - j: 0.0000000000\n",
      "\n",
      "O mínimo local da função ocorre em:  -5.0\n"
     ]
    }
   ],
   "metadata": {}
  },
  {
   "cell_type": "markdown",
   "source": [
    "---\n",
    "\n",
    "Made by [Luis Thiago](https://github.com/LThiago)"
   ],
   "metadata": {}
  }
 ],
 "metadata": {
  "anaconda-cloud": {},
  "kernelspec": {
   "name": "python3",
   "display_name": "Python 3.8.8 64-bit ('base': conda)"
  },
  "language_info": {
   "codemirror_mode": {
    "name": "ipython",
    "version": 3
   },
   "file_extension": ".py",
   "mimetype": "text/x-python",
   "name": "python",
   "nbconvert_exporter": "python",
   "pygments_lexer": "ipython3",
   "version": "3.8.8"
  },
  "interpreter": {
   "hash": "44fef7b9796027a5ba00af614df13b84e0d77a9c0ce05dc9e82c585872e199e7"
  }
 },
 "nbformat": 4,
 "nbformat_minor": 1
}