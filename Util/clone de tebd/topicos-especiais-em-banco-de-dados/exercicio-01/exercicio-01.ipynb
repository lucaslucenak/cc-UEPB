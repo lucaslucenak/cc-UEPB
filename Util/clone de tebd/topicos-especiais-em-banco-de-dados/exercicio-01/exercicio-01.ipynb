{
    "cells": [
        {
            "cell_type": "markdown",
            "source": [
                "# Exercício 1\n",
                "\n",
                "## Criar uma função que retorna o texto e a URL de uma String retirada do JSON da API de um tweet\n"
            ],
            "metadata": {}
        },
        {
            "cell_type": "markdown",
            "source": [
                "Função que recebe a String, encontra a posição que a URL se encontra, separa a mesma do resto da String e retorna o texto e a URL removendo os espaços do início e do fim de cada String\n"
            ],
            "metadata": {}
        },
        {
            "cell_type": "code",
            "execution_count": 1,
            "source": [
                "def split_string(string):\n",
                "    urlPosition = rawText.find('http')\n",
                "    text, url = rawText[:urlPosition], rawText[urlPosition:]\n",
                "    return \"\".join(text.rstrip().lstrip()), \"\".join(url.rstrip().lstrip())"
            ],
            "outputs": [],
            "metadata": {}
        },
        {
            "cell_type": "markdown",
            "source": [
                "Criando e mostrando o conteúdo de uma String para testar o seu uso na função"
            ],
            "metadata": {}
        },
        {
            "cell_type": "code",
            "execution_count": 2,
            "source": [
                "rawText = 'To make room for more expression, we will now count all emojis as equal—including those with gender‍‍‍ ‍‍and skin tone modifiers 👍🏻👍🏽👍🏿. This is now reflected in Twitter-Text, our Open Source library. https://t.co/MkGjXf9aXm&quot'\n",
                "rawText"
            ],
            "outputs": [
                {
                    "output_type": "execute_result",
                    "data": {
                        "text/plain": [
                            "'To make room for more expression, we will now count all emojis as equal—including those with gender\\u200d\\u200d\\u200d \\u200d\\u200dand skin tone modifiers 👍🏻👍🏽👍🏿. This is now reflected in Twitter-Text, our Open Source library. https://t.co/MkGjXf9aXm&quot'"
                        ]
                    },
                    "metadata": {},
                    "execution_count": 2
                }
            ],
            "metadata": {}
        },
        {
            "cell_type": "markdown",
            "source": [
                "Fazendo o uso da função criada e mostrando os valores que foram retornados"
            ],
            "metadata": {}
        },
        {
            "cell_type": "code",
            "execution_count": 3,
            "source": [
                "splitText = split_string(rawText)\n",
                "for string in splitText:\n",
                "    print(string + '\\n')\n"
            ],
            "outputs": [
                {
                    "output_type": "stream",
                    "name": "stdout",
                    "text": [
                        "To make room for more expression, we will now count all emojis as equal—including those with gender‍‍‍ ‍‍and skin tone modifiers 👍🏻👍🏽👍🏿. This is now reflected in Twitter-Text, our Open Source library.\n",
                        "\n",
                        "https://t.co/MkGjXf9aXm&quot\n",
                        "\n"
                    ]
                }
            ],
            "metadata": {}
        },
        {
            "cell_type": "markdown",
            "source": [
                "---\n",
                "\n",
                "Made by [Luis Thiago](https://github.com/LThiago)\n"
            ],
            "metadata": {}
        }
    ],
    "metadata": {
        "orig_nbformat": 4,
        "language_info": {
            "name": "python",
            "version": "3.8.8",
            "mimetype": "text/x-python",
            "codemirror_mode": {
                "name": "ipython",
                "version": 3
            },
            "pygments_lexer": "ipython3",
            "nbconvert_exporter": "python",
            "file_extension": ".py"
        },
        "kernelspec": {
            "name": "python3",
            "display_name": "Python 3.8.8 64-bit ('base': conda)"
        },
        "interpreter": {
            "hash": "44fef7b9796027a5ba00af614df13b84e0d77a9c0ce05dc9e82c585872e199e7"
        }
    },
    "nbformat": 4,
    "nbformat_minor": 2
}